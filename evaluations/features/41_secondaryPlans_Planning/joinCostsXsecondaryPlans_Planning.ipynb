{
 "cells": [
  {
   "cell_type": "markdown",
   "metadata": {
    "id": "pyCZLsZiWekv"
   },
   "source": [
    "MERGE"
   ]
  },
  {
   "cell_type": "code",
   "execution_count": 1,
   "metadata": {
    "id": "GX4Bjvg-XBb2"
   },
   "outputs": [],
   "source": [
    "import os\n",
    "import shutil"
   ]
  },
  {
   "cell_type": "code",
   "execution_count": 2,
   "metadata": {
    "id": "wpweeThFW6Fn"
   },
   "outputs": [],
   "source": [
    "def getAllFilesInDirectoryAndSubdirectories(directory):\n",
    "    filelist = []\n",
    "\n",
    "    for root, dirs, files in os.walk(directory):\n",
    "        for file in files:\n",
    "            filelist.append(os.path.join(root,file))\n",
    "    return filelist"
   ]
  },
  {
   "cell_type": "code",
   "execution_count": 3,
   "metadata": {},
   "outputs": [],
   "source": [
    "import glob\n",
    "import shutil\n",
    "\n",
    "def mergeOnlyPlans(sourceDirs, outDir, useid = False):\n",
    "    if useid:\n",
    "        idFile = open(os.path.join(outDir, \"id_merged.csv\" ), \"a\")\n",
    "    for sd in sourceDirs:\n",
    "        for file in glob.glob(sd + \"/*_explain.txt\"):\n",
    "            shutil.copy(file, outDir)\n",
    "        if useid:\n",
    "            with open(glob.glob(sd+\"/id_*\")[0]) as ids:\n",
    "                for line in ids:\n",
    "                    if \"ts\" in line:\n",
    "                        idFile.write(line.strip() + \"\\n\")\n",
    "                          \n",
    "              "
   ]
  },
  {
   "cell_type": "code",
   "execution_count": 4,
   "metadata": {},
   "outputs": [
    {
     "data": {
      "text/plain": [
       "['./out/runYan_joinCostsXsecondaryPlans_onlyPlan_20230927/full/3',\n",
       " './out/runYan_joinCostsXsecondaryPlans_onlyPlan_20230927/full/5',\n",
       " './out/runYan_joinCostsXsecondaryPlans_onlyPlan_20230927/full/4',\n",
       " './out/runYan_joinCostsXsecondaryPlans_onlyPlan_20230927/full/1',\n",
       " './out/runYan_joinCostsXsecondaryPlans_onlyPlan_20230927/full/2']"
      ]
     },
     "execution_count": 4,
     "metadata": {},
     "output_type": "execute_result"
    }
   ],
   "source": [
    "subDirs = [f.path for f in os.scandir(\"./out/runYan_joinCostsXsecondaryPlans_onlyPlan_20230927/full/\") if f.is_dir()]\n",
    "subDirs"
   ]
  },
  {
   "cell_type": "code",
   "execution_count": 5,
   "metadata": {},
   "outputs": [
    {
     "data": {
      "text/plain": [
       "[['./out/runYan_joinCostsXsecondaryPlans_onlyPlan_20230927/full/3/2023-09-27_07:40:57.193262',\n",
       "  './out/runYan_joinCostsXsecondaryPlans_onlyPlan_20230927/full/3/2023-09-27_07:41:54.687682',\n",
       "  './out/runYan_joinCostsXsecondaryPlans_onlyPlan_20230927/full/3/2023-09-27_07:42:47.130965',\n",
       "  './out/runYan_joinCostsXsecondaryPlans_onlyPlan_20230927/full/3/2023-09-27_07:43:33.603494'],\n",
       " ['./out/runYan_joinCostsXsecondaryPlans_onlyPlan_20230927/full/5/2023-09-27_07:48:55.872063',\n",
       "  './out/runYan_joinCostsXsecondaryPlans_onlyPlan_20230927/full/5/2023-09-27_07:49:50.837013',\n",
       "  './out/runYan_joinCostsXsecondaryPlans_onlyPlan_20230927/full/5/2023-09-27_07:50:40.518972',\n",
       "  './out/runYan_joinCostsXsecondaryPlans_onlyPlan_20230927/full/5/2023-09-27_07:51:33.028367',\n",
       "  './out/runYan_joinCostsXsecondaryPlans_onlyPlan_20230927/full/5/2023-09-27_07:52:20.076269',\n",
       "  './out/runYan_joinCostsXsecondaryPlans_onlyPlan_20230927/full/5/2023-09-27_07:53:06.010598',\n",
       "  './out/runYan_joinCostsXsecondaryPlans_onlyPlan_20230927/full/5/2023-09-27_07:53:54.335600'],\n",
       " ['./out/runYan_joinCostsXsecondaryPlans_onlyPlan_20230927/full/4/2023-09-27_07:43:48.768048',\n",
       "  './out/runYan_joinCostsXsecondaryPlans_onlyPlan_20230927/full/4/2023-09-27_07:44:46.164968',\n",
       "  './out/runYan_joinCostsXsecondaryPlans_onlyPlan_20230927/full/4/2023-09-27_07:45:35.600445',\n",
       "  './out/runYan_joinCostsXsecondaryPlans_onlyPlan_20230927/full/4/2023-09-27_07:46:23.748189',\n",
       "  './out/runYan_joinCostsXsecondaryPlans_onlyPlan_20230927/full/4/2023-09-27_07:47:09.205217',\n",
       "  './out/runYan_joinCostsXsecondaryPlans_onlyPlan_20230927/full/4/2023-09-27_07:47:55.684058',\n",
       "  './out/runYan_joinCostsXsecondaryPlans_onlyPlan_20230927/full/4/2023-09-27_07:48:43.894498'],\n",
       " ['./out/runYan_joinCostsXsecondaryPlans_onlyPlan_20230927/full/1/2023-09-27_07:34:27.182581',\n",
       "  './out/runYan_joinCostsXsecondaryPlans_onlyPlan_20230927/full/1/2023-09-27_07:35:25.385320',\n",
       "  './out/runYan_joinCostsXsecondaryPlans_onlyPlan_20230927/full/1/2023-09-27_07:36:16.318550',\n",
       "  './out/runYan_joinCostsXsecondaryPlans_onlyPlan_20230927/full/1/2023-09-27_07:37:04.003131',\n",
       "  './out/runYan_joinCostsXsecondaryPlans_onlyPlan_20230927/full/1/2023-09-27_07:37:52.618196',\n",
       "  './out/runYan_joinCostsXsecondaryPlans_onlyPlan_20230927/full/1/2023-09-27_07:38:39.230038'],\n",
       " ['./out/runYan_joinCostsXsecondaryPlans_onlyPlan_20230927/full/2/2023-09-27_07:38:51.179866',\n",
       "  './out/runYan_joinCostsXsecondaryPlans_onlyPlan_20230927/full/2/2023-09-27_07:39:49.349370',\n",
       "  './out/runYan_joinCostsXsecondaryPlans_onlyPlan_20230927/full/2/2023-09-27_07:40:41.638686']]"
      ]
     },
     "execution_count": 5,
     "metadata": {},
     "output_type": "execute_result"
    }
   ],
   "source": [
    "srcDirs = []\n",
    "for dir in subDirs:\n",
    "    srcDirs.append([x[0] for x in os.walk(dir)][1:])\n",
    "    srcDirs[-1].sort()\n",
    "\n",
    "srcDirs"
   ]
  },
  {
   "cell_type": "code",
   "execution_count": 6,
   "metadata": {},
   "outputs": [],
   "source": [
    "from pathlib import Path\n",
    "i = 1\n",
    "for d in srcDirs:\n",
    "    Path(\"./mergeout/joinCostsXsecondaryPlans/\"+str(i)).mkdir(parents=True, exist_ok=True)\n",
    "    mergeOnlyPlans(d, \"./mergeout/joinCostsXsecondaryPlans/\"+str(i), useid = True)\n",
    "    i = i + 1"
   ]
  },
  {
   "cell_type": "markdown",
   "metadata": {},
   "source": [
    "EVALUATE"
   ]
  },
  {
   "cell_type": "code",
   "execution_count": 7,
   "metadata": {},
   "outputs": [],
   "source": [
    "import glob\n",
    "import numpy as np"
   ]
  },
  {
   "cell_type": "code",
   "execution_count": 8,
   "metadata": {},
   "outputs": [],
   "source": [
    "def openFileByWildcard(wc):\n",
    "  for filename in glob.glob(wc):\n",
    "    f = open(filename, 'r')\n",
    "    return f"
   ]
  },
  {
   "cell_type": "code",
   "execution_count": 9,
   "metadata": {},
   "outputs": [],
   "source": [
    "def parseµms(s):\n",
    "    if \"µs\" in s:\n",
    "        s = s.replace(\"µs\", \"\").strip()\n",
    "        return float(s)/1000\n",
    "    if \"ms\" in s:\n",
    "        s = s.replace(\"ms\", \"\").strip()\n",
    "        return float(s)\n",
    "    if \"s\" in s:\n",
    "        s = s.replace(\"s\", \"\").strip()\n",
    "        return float(s)*1000"
   ]
  },
  {
   "cell_type": "code",
   "execution_count": 10,
   "metadata": {},
   "outputs": [],
   "source": [
    "def getCosts(mergedir, logfile):\n",
    "    # get queries and timestamps into the two lists\n",
    "    idFile = openFileByWildcard(os.path.join(mergedir, \"id*\"))\n",
    "    queries = []\n",
    "    timestamps = []\n",
    "    costbefore = []\n",
    "    costafter = []\n",
    "    duration = []\n",
    "    planning = []\n",
    "    lines = []\n",
    "    queriesToRemove = []\n",
    "    for idline in idFile.readlines():\n",
    "        parts = idline.replace(\"/*\", \"\").replace(\"*/\", \"\").split(\",\")\n",
    "        query = parts[0].split(\"/\")[-1].replace(\".sql\", \"\").strip()\n",
    "        ts = parts[1].split(\":\")[1].strip()\n",
    "        queries.append(query)\n",
    "        timestamps.append(ts)\n",
    "\n",
    "    queryid = 0\n",
    "    started = False\n",
    "    buffer = [\"\"]*20\n",
    "    with open(logfile, \"r\") as log:\n",
    "        while queryid < len(queries):\n",
    "            l = log.readline()\n",
    "            if not l:\n",
    "                break\n",
    "            \n",
    "            if \"YAN secondary plans\" in l and started:\n",
    "                qstart = l.find('orig_queries/') + len('orig_queries/')\n",
    "                qend = l.find('.sql', qstart)\n",
    "                \n",
    "                if l[qstart:qend] > queries[queryid]:\n",
    "                    queriesToRemove.append(queries[queryid])\n",
    "                    queryid = queryid + 1\n",
    "           \n",
    "            if \"YAN secondary plans\" in l and \"final cost\" in l and timestamps[queryid] in l and queries[queryid] in l: # todo: skip if there is no entry/no second entry\n",
    "                started = True\n",
    "                coststart = l.find('cost:') + len('cost:')\n",
    "                costend = l.find(',', coststart)\n",
    "\n",
    "                # go back for planning time, init cost\n",
    "                end = 0\n",
    "                for li in buffer:\n",
    "                    if \"Time since start excluding secondaries\" in li:\n",
    "                        tstart = li.find('Time since start excluding secondaries:') + len('Time since start excluding secondaries:')\n",
    "                        tend = li.find('\"', tstart)\n",
    "                        planning.append(end - parseµms(li[tstart:tend].strip()))\n",
    "                        break\n",
    "\n",
    "                    elif \"Time since start including secondaries\" in li:\n",
    "                        tstart = li.find('Time since start including secondaries:') + len('Time since start including secondaries:')\n",
    "                        tend = li.find('\"', tstart)\n",
    "                        end = parseµms(li[tstart:tend].strip())\n",
    "\n",
    "                    elif \"initial cost\" in li:\n",
    "                        costbefstart = li.find('cost:') + len('cost:')\n",
    "                        costbefend = li.find(',', costbefstart)\n",
    "                        costbefore.append(float(li[costbefstart:costbefend].strip()))\n",
    "                        lines.append(li)\n",
    "                        \n",
    "\n",
    "                \n",
    "                costafter.append(float(l[coststart:costend].strip()))\n",
    "                durstart = l.find(\"took:\", costend) + len(\"took:\")\n",
    "                durend = l.find(\",\", durstart)\n",
    "                duration.append(parseµms(l[durstart:durend].strip()))\n",
    "                lines.append(l)\n",
    "                    \n",
    "                queryid = queryid + 1\n",
    "            buffer.insert(0,l)\n",
    "            buffer = buffer[0:20]\n",
    "    return (queries, costbefore, costafter, duration, lines, planning, queriesToRemove)"
   ]
  },
  {
   "cell_type": "code",
   "execution_count": 11,
   "metadata": {},
   "outputs": [
    {
     "name": "stdout",
     "output_type": "stream",
     "text": [
      "['23ao', '24aa', '24aa', '28ab', '28ac', '28ac', '28ad', '28ae']\n",
      "['02aa', '02ab', '02ac', '02ad', '02ae', '02af', '02ag', '02ah', '02ai', '02aj', '02ak', '02al', '02am', '02an', '02ao', '03aa', '03ab', '03ac', '03ad', '03ae', '03af', '03ag', '03ah', '03ai', '03aj', '03ak', '03al', '03am', '03an', '03ao', '04aa', '04ab', '04ac', '04ad', '04ae', '04af', '04ag', '04ah', '04ai', '04aj', '04ak', '04al', '04am', '04an', '04ao', '05aa', '05ab', '05ac', '05ad', '05ae', '05af', '05ag', '05ah', '05ai', '05aj', '05ak', '05al', '05am', '05an', '05ao', '06aa', '06ab', '06ac', '06ad', '06ae', '06af', '06ag', '06ah', '06ai', '06aj', '06ak', '06al', '06am', '06an', '06ao', '07aa', '07ab', '07ac', '07ad', '07ae', '07af', '07ag', '07ah', '07ai', '07aj', '07ak', '07al', '07am', '07an', '07ao', '08aa', '08ab', '08ac', '08ad', '08ae', '08af', '08ag', '08ah', '08ai', '08aj', '08ak', '08al', '08am', '08an', '08ao', '09aa', '09ab', '09ac', '09ad', '09ae', '09af', '09ag', '09ah', '09ai', '09aj', '09ak', '09al', '09am', '09an', '09ao', '10aa', '10ab', '10ac', '10ad', '10ae', '10af', '10ag', '10ah', '10ai', '10aj', '10ak', '10al', '10am', '10an', '10ao', '11aa', '11ab', '11ac', '11ad', '11ae', '11af', '11ag', '11ah', '11ai', '11aj', '11ak', '11al', '11am', '11an', '11ao', '12aa', '12ab', '12ac', '12ad', '12ae', '12af', '12ag', '12ah', '12ai', '12aj', '12ak', '12al', '12am', '12an', '12ao', '13aa', '13ab', '13ac', '13ad', '13ae', '13af', '13ag', '13ah', '13ai', '13aj', '13ak', '13al', '13am', '13an', '13ao', '14aa', '14ab', '14ac', '14ad', '14ae', '14af', '14ag', '14ah', '14ai', '14aj', '14ak', '14al', '14am', '14an', '14ao', '15aa', '15ab', '15ac', '15ad', '15ae', '15af', '15ag', '15ah', '15ai', '15aj', '15ak', '15al', '15am', '15an', '15ao', '16aa', '16ab', '16ac', '16ad', '16ae', '16af', '16ag', '16ah', '16ai', '16aj', '16ak', '16al', '16am', '16an', '16ao', '17aa', '17ab', '17ac', '17ad', '17ae', '17af', '17ag', '17ah', '17ai', '17aj', '17ak', '17al', '17am', '17an', '17ao', '18aa', '18ab', '18ac', '18ad', '18ae', '18af', '18ag', '18ah', '18ai', '18aj', '18ak', '18al', '18am', '18an', '18ao', '19aa', '19ab', '19ac', '19ad', '19ae', '19af', '19ag', '19ah', '19ai', '19aj', '19ak', '19al', '19am', '19an', '19ao', '20aa', '20ab', '20ac', '20ad', '20ae', '20af', '20ag', '20ah', '20ai', '20aj', '20ak', '20al', '20am', '20an', '20ao', '21aa', '21ab', '21ac', '21ad', '21ae', '21af', '21ag', '21ah', '21ai', '21aj', '21ak', '21al', '21am', '21an', '21ao', '22aa', '22ab', '22ac', '22ad', '22ae', '22af', '22ag', '22ah', '22ai', '22aj', '22ak', '22al', '22am', '22an', '22ao', '23aa', '23ab', '23ac', '23ad', '23ae', '23af', '23ag', '23ah', '23ai', '23aj', '23ak', '23al', '23am', '23an', '24ab', '24ac', '24ad', '24ae', '24af', '24ag', '24ah', '24ai', '24aj', '24ak', '24al', '24am', '24an', '24ao', '25aa', '25ab', '25ac', '25ad', '25ae', '25af', '25ag', '25ah', '25ai', '25aj', '25ak', '25al', '25am', '25an', '25ao', '26aa', '26ab', '26ac', '26ad', '26ae', '26af', '26ag', '26ah', '26ai', '26aj', '26ak', '26al', '26am', '26an', '26ao', '27aa', '27ab', '27ac', '27ad', '27ae', '27af', '27ag', '27ah', '27ai', '27aj', '27ak', '27al', '27am', '27an', '27ao', '28aa', '28af', '28ag', '28ah', '28ai', '28aj', '28ak', '28al', '28am', '28an', '28ao', '29aa', '29ab', '29ac', '29ad', '29ae', '29af', '29ag', '29ah', '29ai', '29aj', '29ak', '29al', '29am', '29an', '29ao', '30aa', '30ab', '30ac', '30ad', '30ae', '30af', '30ag', '30ah', '30ai', '30aj', '30ak', '30al', '30am', '30an', '30ao']\n",
      "['21aa', '23ao', '28ab', '28ah', '28ao', '30ab', '30ac', '30ac']\n",
      "['02aa', '02ab', '02ac', '02ad', '02ae', '02af', '02ag', '02ah', '02ai', '02aj', '02ak', '02al', '02am', '02an', '02ao', '03aa', '03ab', '03ac', '03ad', '03ae', '03af', '03ag', '03ah', '03ai', '03aj', '03ak', '03al', '03am', '03an', '03ao', '04aa', '04ab', '04ac', '04ad', '04ae', '04af', '04ag', '04ah', '04ai', '04aj', '04ak', '04al', '04am', '04an', '04ao', '05aa', '05ab', '05ac', '05ad', '05ae', '05af', '05ag', '05ah', '05ai', '05aj', '05ak', '05al', '05am', '05an', '05ao', '06aa', '06ab', '06ac', '06ad', '06ae', '06af', '06ag', '06ah', '06ai', '06aj', '06ak', '06al', '06am', '06an', '06ao', '07aa', '07ab', '07ac', '07ad', '07ae', '07af', '07ag', '07ah', '07ai', '07aj', '07ak', '07al', '07am', '07an', '07ao', '08aa', '08ab', '08ac', '08ad', '08ae', '08af', '08ag', '08ah', '08ai', '08aj', '08ak', '08al', '08am', '08an', '08ao', '09aa', '09ab', '09ac', '09ad', '09ae', '09af', '09ag', '09ah', '09ai', '09aj', '09ak', '09al', '09am', '09an', '09ao', '10aa', '10ab', '10ac', '10ad', '10ae', '10af', '10ag', '10ah', '10ai', '10aj', '10ak', '10al', '10am', '10an', '10ao', '11aa', '11ab', '11ac', '11ad', '11ae', '11af', '11ag', '11ah', '11ai', '11aj', '11ak', '11al', '11am', '11an', '11ao', '12aa', '12ab', '12ac', '12ad', '12ae', '12af', '12ag', '12ah', '12ai', '12aj', '12ak', '12al', '12am', '12an', '12ao', '13aa', '13ab', '13ac', '13ad', '13ae', '13af', '13ag', '13ah', '13ai', '13aj', '13ak', '13al', '13am', '13an', '13ao', '14aa', '14ab', '14ac', '14ad', '14ae', '14af', '14ag', '14ah', '14ai', '14aj', '14ak', '14al', '14am', '14an', '14ao', '15aa', '15ab', '15ac', '15ad', '15ae', '15af', '15ag', '15ah', '15ai', '15aj', '15ak', '15al', '15am', '15an', '15ao', '16aa', '16ab', '16ac', '16ad', '16ae', '16af', '16ag', '16ah', '16ai', '16aj', '16ak', '16al', '16am', '16an', '16ao', '17aa', '17ab', '17ac', '17ad', '17ae', '17af', '17ag', '17ah', '17ai', '17aj', '17ak', '17al', '17am', '17an', '17ao', '18aa', '18ab', '18ac', '18ad', '18ae', '18af', '18ag', '18ah', '18ai', '18aj', '18ak', '18al', '18am', '18an', '18ao', '19aa', '19ab', '19ac', '19ad', '19ae', '19af', '19ag', '19ah', '19ai', '19aj', '19ak', '19al', '19am', '19an', '19ao', '20aa', '20ab', '20ac', '20ad', '20ae', '20af', '20ag', '20ah', '20ai', '20aj', '20ak', '20al', '20am', '20an', '20ao', '21ab', '21ac', '21ad', '21ae', '21af', '21ag', '21ah', '21ai', '21aj', '21ak', '21al', '21am', '21an', '21ao', '22aa', '22ab', '22ac', '22ad', '22ae', '22af', '22ag', '22ah', '22ai', '22aj', '22ak', '22al', '22am', '22an', '22ao', '23aa', '23ab', '23ac', '23ad', '23ae', '23af', '23ag', '23ah', '23ai', '23aj', '23ak', '23al', '23am', '23an', '24aa', '24ab', '24ac', '24ad', '24ae', '24af', '24ag', '24ah', '24ai', '24aj', '24ak', '24al', '24am', '24an', '24ao', '25aa', '25ab', '25ac', '25ad', '25ae', '25af', '25ag', '25ah', '25ai', '25aj', '25ak', '25al', '25am', '25an', '25ao', '26aa', '26ab', '26ac', '26ad', '26ae', '26af', '26ag', '26ah', '26ai', '26aj', '26ak', '26al', '26am', '26an', '26ao', '27aa', '27ab', '27ac', '27ad', '27ae', '27af', '27ag', '27ah', '27ai', '27aj', '27ak', '27al', '27am', '27an', '27ao', '28aa', '28ac', '28ad', '28ae', '28af', '28ag', '28ai', '28aj', '28ak', '28al', '28am', '28an', '29aa', '29ab', '29ac', '29ad', '29ae', '29af', '29ag', '29ah', '29ai', '29aj', '29ak', '29al', '29am', '29an', '29ao', '30aa', '30ad', '30ae', '30af', '30ag', '30ah', '30ai', '30aj', '30ak', '30al', '30am', '30an', '30ao']\n",
      "['23ao', '26ae', '28ab', '28ad', '28ae', '28ae', '28ao', '30ab']\n",
      "['02aa', '02ab', '02ac', '02ad', '02ae', '02af', '02ag', '02ah', '02ai', '02aj', '02ak', '02al', '02am', '02an', '02ao', '03aa', '03ab', '03ac', '03ad', '03ae', '03af', '03ag', '03ah', '03ai', '03aj', '03ak', '03al', '03am', '03an', '03ao', '04aa', '04ab', '04ac', '04ad', '04ae', '04af', '04ag', '04ah', '04ai', '04aj', '04ak', '04al', '04am', '04an', '04ao', '05aa', '05ab', '05ac', '05ad', '05ae', '05af', '05ag', '05ah', '05ai', '05aj', '05ak', '05al', '05am', '05an', '05ao', '06aa', '06ab', '06ac', '06ad', '06ae', '06af', '06ag', '06ah', '06ai', '06aj', '06ak', '06al', '06am', '06an', '06ao', '07aa', '07ab', '07ac', '07ad', '07ae', '07af', '07ag', '07ah', '07ai', '07aj', '07ak', '07al', '07am', '07an', '07ao', '08aa', '08ab', '08ac', '08ad', '08ae', '08af', '08ag', '08ah', '08ai', '08aj', '08ak', '08al', '08am', '08an', '08ao', '09aa', '09ab', '09ac', '09ad', '09ae', '09af', '09ag', '09ah', '09ai', '09aj', '09ak', '09al', '09am', '09an', '09ao', '10aa', '10ab', '10ac', '10ad', '10ae', '10af', '10ag', '10ah', '10ai', '10aj', '10ak', '10al', '10am', '10an', '10ao', '11aa', '11ab', '11ac', '11ad', '11ae', '11af', '11ag', '11ah', '11ai', '11aj', '11ak', '11al', '11am', '11an', '11ao', '12aa', '12ab', '12ac', '12ad', '12ae', '12af', '12ag', '12ah', '12ai', '12aj', '12ak', '12al', '12am', '12an', '12ao', '13aa', '13ab', '13ac', '13ad', '13ae', '13af', '13ag', '13ah', '13ai', '13aj', '13ak', '13al', '13am', '13an', '13ao', '14aa', '14ab', '14ac', '14ad', '14ae', '14af', '14ag', '14ah', '14ai', '14aj', '14ak', '14al', '14am', '14an', '14ao', '15aa', '15ab', '15ac', '15ad', '15ae', '15af', '15ag', '15ah', '15ai', '15aj', '15ak', '15al', '15am', '15an', '15ao', '16aa', '16ab', '16ac', '16ad', '16ae', '16af', '16ag', '16ah', '16ai', '16aj', '16ak', '16al', '16am', '16an', '16ao', '17aa', '17ab', '17ac', '17ad', '17ae', '17af', '17ag', '17ah', '17ai', '17aj', '17ak', '17al', '17am', '17an', '17ao', '18aa', '18ab', '18ac', '18ad', '18ae', '18af', '18ag', '18ah', '18ai', '18aj', '18ak', '18al', '18am', '18an', '18ao', '19aa', '19ab', '19ac', '19ad', '19ae', '19af', '19ag', '19ah', '19ai', '19aj', '19ak', '19al', '19am', '19an', '19ao', '20aa', '20ab', '20ac', '20ad', '20ae', '20af', '20ag', '20ah', '20ai', '20aj', '20ak', '20al', '20am', '20an', '20ao', '21aa', '21ab', '21ac', '21ad', '21ae', '21af', '21ag', '21ah', '21ai', '21aj', '21ak', '21al', '21am', '21an', '21ao', '22aa', '22ab', '22ac', '22ad', '22ae', '22af', '22ag', '22ah', '22ai', '22aj', '22ak', '22al', '22am', '22an', '22ao', '23aa', '23ab', '23ac', '23ad', '23ae', '23af', '23ag', '23ah', '23ai', '23aj', '23ak', '23al', '23am', '23an', '24aa', '24ab', '24ac', '24ad', '24ae', '24af', '24ag', '24ah', '24ai', '24aj', '24ak', '24al', '24am', '24an', '24ao', '25aa', '25ab', '25ac', '25ad', '25ae', '25af', '25ag', '25ah', '25ai', '25aj', '25ak', '25al', '25am', '25an', '25ao', '26aa', '26ab', '26ac', '26ad', '26af', '26ag', '26ah', '26ai', '26aj', '26ak', '26al', '26am', '26an', '26ao', '27aa', '27ab', '27ac', '27ad', '27ae', '27af', '27ag', '27ah', '27ai', '27aj', '27ak', '27al', '27am', '27an', '27ao', '28aa', '28ac', '28af', '28ag', '28ah', '28ai', '28aj', '28ak', '28al', '28am', '28an', '29aa', '29ab', '29ac', '29ad', '29ae', '29af', '29ag', '29ah', '29ai', '29aj', '29ak', '29al', '29am', '29an', '29ao', '30aa', '30ac', '30ad', '30ae', '30af', '30ag', '30ah', '30ai', '30aj', '30ak', '30al', '30am', '30an', '30ao']\n",
      "['23ao', '24aa', '24aa', '27ad', '28ab', '28ac', '28ac', '29ag', '30ab']\n",
      "['02aa', '02ab', '02ac', '02ad', '02ae', '02af', '02ag', '02ah', '02ai', '02aj', '02ak', '02al', '02am', '02an', '02ao', '03aa', '03ab', '03ac', '03ad', '03ae', '03af', '03ag', '03ah', '03ai', '03aj', '03ak', '03al', '03am', '03an', '03ao', '04aa', '04ab', '04ac', '04ad', '04ae', '04af', '04ag', '04ah', '04ai', '04aj', '04ak', '04al', '04am', '04an', '04ao', '05aa', '05ab', '05ac', '05ad', '05ae', '05af', '05ag', '05ah', '05ai', '05aj', '05ak', '05al', '05am', '05an', '05ao', '06aa', '06ab', '06ac', '06ad', '06ae', '06af', '06ag', '06ah', '06ai', '06aj', '06ak', '06al', '06am', '06an', '06ao', '07aa', '07ab', '07ac', '07ad', '07ae', '07af', '07ag', '07ah', '07ai', '07aj', '07ak', '07al', '07am', '07an', '07ao', '08aa', '08ab', '08ac', '08ad', '08ae', '08af', '08ag', '08ah', '08ai', '08aj', '08ak', '08al', '08am', '08an', '08ao', '09aa', '09ab', '09ac', '09ad', '09ae', '09af', '09ag', '09ah', '09ai', '09aj', '09ak', '09al', '09am', '09an', '09ao', '10aa', '10ab', '10ac', '10ad', '10ae', '10af', '10ag', '10ah', '10ai', '10aj', '10ak', '10al', '10am', '10an', '10ao', '11aa', '11ab', '11ac', '11ad', '11ae', '11af', '11ag', '11ah', '11ai', '11aj', '11ak', '11al', '11am', '11an', '11ao', '12aa', '12ab', '12ac', '12ad', '12ae', '12af', '12ag', '12ah', '12ai', '12aj', '12ak', '12al', '12am', '12an', '12ao', '13aa', '13ab', '13ac', '13ad', '13ae', '13af', '13ag', '13ah', '13ai', '13aj', '13ak', '13al', '13am', '13an', '13ao', '14aa', '14ab', '14ac', '14ad', '14ae', '14af', '14ag', '14ah', '14ai', '14aj', '14ak', '14al', '14am', '14an', '14ao', '15aa', '15ab', '15ac', '15ad', '15ae', '15af', '15ag', '15ah', '15ai', '15aj', '15ak', '15al', '15am', '15an', '15ao', '16aa', '16ab', '16ac', '16ad', '16ae', '16af', '16ag', '16ah', '16ai', '16aj', '16ak', '16al', '16am', '16an', '16ao', '17aa', '17ab', '17ac', '17ad', '17ae', '17af', '17ag', '17ah', '17ai', '17aj', '17ak', '17al', '17am', '17an', '17ao', '18aa', '18ab', '18ac', '18ad', '18ae', '18af', '18ag', '18ah', '18ai', '18aj', '18ak', '18al', '18am', '18an', '18ao', '19aa', '19ab', '19ac', '19ad', '19ae', '19af', '19ag', '19ah', '19ai', '19aj', '19ak', '19al', '19am', '19an', '19ao', '20aa', '20ab', '20ac', '20ad', '20ae', '20af', '20ag', '20ah', '20ai', '20aj', '20ak', '20al', '20am', '20an', '20ao', '21aa', '21ab', '21ac', '21ad', '21ae', '21af', '21ag', '21ah', '21ai', '21aj', '21ak', '21al', '21am', '21an', '21ao', '22aa', '22ab', '22ac', '22ad', '22ae', '22af', '22ag', '22ah', '22ai', '22aj', '22ak', '22al', '22am', '22an', '22ao', '23aa', '23ab', '23ac', '23ad', '23ae', '23af', '23ag', '23ah', '23ai', '23aj', '23ak', '23al', '23am', '23an', '24ab', '24ac', '24ad', '24ae', '24af', '24ag', '24ah', '24ai', '24aj', '24ak', '24al', '24am', '24an', '24ao', '25aa', '25ab', '25ac', '25ad', '25ae', '25af', '25ag', '25ah', '25ai', '25aj', '25ak', '25al', '25am', '25an', '25ao', '26aa', '26ab', '26ac', '26ad', '26ae', '26af', '26ag', '26ah', '26ai', '26aj', '26ak', '26al', '26am', '26an', '26ao', '27aa', '27ab', '27ac', '27ae', '27af', '27ag', '27ah', '27ai', '27aj', '27ak', '27al', '27am', '27an', '27ao', '28aa', '28ad', '28ae', '28af', '28ag', '28ah', '28ai', '28aj', '28ak', '28al', '28am', '28an', '28ao', '29aa', '29ab', '29ac', '29ad', '29ae', '29af', '29ah', '29ai', '29aj', '29ak', '29al', '29am', '29an', '29ao', '30aa', '30ac', '30ad', '30ae', '30af', '30ag', '30ah', '30ai', '30aj', '30ak', '30al', '30am', '30an', '30ao']\n",
      "['23ao', '28ab']\n",
      "['02aa', '02ab', '02ac', '02ad', '02ae', '02af', '02ag', '02ah', '02ai', '02aj', '02ak', '02al', '02am', '02an', '02ao', '03aa', '03ab', '03ac', '03ad', '03ae', '03af', '03ag', '03ah', '03ai', '03aj', '03ak', '03al', '03am', '03an', '03ao', '04aa', '04ab', '04ac', '04ad', '04ae', '04af', '04ag', '04ah', '04ai', '04aj', '04ak', '04al', '04am', '04an', '04ao', '05aa', '05ab', '05ac', '05ad', '05ae', '05af', '05ag', '05ah', '05ai', '05aj', '05ak', '05al', '05am', '05an', '05ao', '06aa', '06ab', '06ac', '06ad', '06ae', '06af', '06ag', '06ah', '06ai', '06aj', '06ak', '06al', '06am', '06an', '06ao', '07aa', '07ab', '07ac', '07ad', '07ae', '07af', '07ag', '07ah', '07ai', '07aj', '07ak', '07al', '07am', '07an', '07ao', '08aa', '08ab', '08ac', '08ad', '08ae', '08af', '08ag', '08ah', '08ai', '08aj', '08ak', '08al', '08am', '08an', '08ao', '09aa', '09ab', '09ac', '09ad', '09ae', '09af', '09ag', '09ah', '09ai', '09aj', '09ak', '09al', '09am', '09an', '09ao', '10aa', '10ab', '10ac', '10ad', '10ae', '10af', '10ag', '10ah', '10ai', '10aj', '10ak', '10al', '10am', '10an', '10ao', '11aa', '11ab', '11ac', '11ad', '11ae', '11af', '11ag', '11ah', '11ai', '11aj', '11ak', '11al', '11am', '11an', '11ao', '12aa', '12ab', '12ac', '12ad', '12ae', '12af', '12ag', '12ah', '12ai', '12aj', '12ak', '12al', '12am', '12an', '12ao', '13aa', '13ab', '13ac', '13ad', '13ae', '13af', '13ag', '13ah', '13ai', '13aj', '13ak', '13al', '13am', '13an', '13ao', '14aa', '14ab', '14ac', '14ad', '14ae', '14af', '14ag', '14ah', '14ai', '14aj', '14ak', '14al', '14am', '14an', '14ao', '15aa', '15ab', '15ac', '15ad', '15ae', '15af', '15ag', '15ah', '15ai', '15aj', '15ak', '15al', '15am', '15an', '15ao', '16aa', '16ab', '16ac', '16ad', '16ae', '16af', '16ag', '16ah', '16ai', '16aj', '16ak', '16al', '16am', '16an', '16ao', '17aa', '17ab', '17ac', '17ad', '17ae', '17af', '17ag', '17ah', '17ai', '17aj', '17ak', '17al', '17am', '17an', '17ao', '18aa', '18ab', '18ac', '18ad', '18ae', '18af', '18ag', '18ah', '18ai', '18aj', '18ak', '18al', '18am', '18an', '18ao', '19aa', '19ab', '19ac', '19ad', '19ae', '19af', '19ag', '19ah', '19ai', '19aj', '19ak', '19al', '19am', '19an', '19ao', '20aa', '20ab', '20ac', '20ad', '20ae', '20af', '20ag', '20ah', '20ai', '20aj', '20ak', '20al', '20am', '20an', '20ao', '21aa', '21ab', '21ac', '21ad', '21ae', '21af', '21ag', '21ah', '21ai', '21aj', '21ak', '21al', '21am', '21an', '21ao', '22aa', '22ab', '22ac', '22ad', '22ae', '22af', '22ag', '22ah', '22ai', '22aj', '22ak', '22al', '22am', '22an', '22ao', '23aa', '23ab', '23ac', '23ad', '23ae', '23af', '23ag', '23ah', '23ai', '23aj', '23ak', '23al', '23am', '23an', '24aa', '24ab', '24ac', '24ad', '24ae', '24af', '24ag', '24ah', '24ai', '24aj', '24ak', '24al', '24am', '24an', '24ao', '25aa', '25ab', '25ac', '25ad', '25ae', '25af', '25ag', '25ah', '25ai', '25aj', '25ak', '25al', '25am', '25an', '25ao', '26aa', '26ab', '26ac', '26ad', '26ae', '26af', '26ag', '26ah', '26ai', '26aj', '26ak', '26al', '26am', '26an', '26ao', '27aa', '27ab', '27ac', '27ad', '27ae', '27af', '27ag', '27ah', '27ai', '27aj', '27ak', '27al', '27am', '27an', '27ao', '28aa', '28ac', '28ad', '28ae', '28af', '28ag', '28ah', '28ai', '28aj', '28ak', '28al', '28am', '28an', '28ao', '29aa', '29ab', '29ac', '29ad', '29ae', '29af', '29ag', '29ah', '29ai', '29aj', '29ak', '29al', '29am', '29an', '29ao', '30aa', '30ab', '30ac', '30ad', '30ae', '30af', '30ag', '30ah', '30ai', '30aj', '30ak', '30al', '30am', '30an', '30ao']\n"
     ]
    }
   ],
   "source": [
    "allqueries = []\n",
    "allcostbefore = []\n",
    "allcostafter = []\n",
    "allduration = []\n",
    "alllines = []\n",
    "allplanning = []\n",
    "allqueriestoremove = []\n",
    "for i in range(1,6):\n",
    "    queries, costbefore, costafter, duration, lines, planning, queriesToRemove = getCosts(\"./mergeout/joinCostsXsecondaryPlans/\" + str(i) + \"/\", \"./tidb_IP_4000_joinCostsXsecondaryPlans.log\")\n",
    "    queries = [q for q in queries if q not in queriesToRemove]\n",
    "    print(queriesToRemove)\n",
    "    print(queries)\n",
    "    allqueries.append(queries)\n",
    "    allcostbefore.append(costbefore)\n",
    "    allcostafter.append(costafter)\n",
    "    allduration.append(duration)\n",
    "    alllines.append(lines)\n",
    "    allplanning.append(planning)\n",
    "    allqueriestoremove.append(queriesToRemove)\n",
    "\n",
    "    init = True\n",
    "    for l in lines:\n",
    "        if init and \"initial\" in l:\n",
    "            init = False\n",
    "        elif not init and \"final\" in l:\n",
    "            init = True\n",
    "        else:\n",
    "            print(\"=====================ERROR\")\n",
    "            print(l)"
   ]
  },
  {
   "cell_type": "code",
   "execution_count": 12,
   "metadata": {},
   "outputs": [],
   "source": [
    "def getDiffPercentage(costbefore, costafter):\n",
    "    diffPercentage = []\n",
    "    for i in range(len(costbefore)):\n",
    "        diffPercentage.append((1-(costafter[i]/costbefore[i]))*100)\n",
    "    #diffPercentage\n",
    "    #np.median(diffPercentage)\n",
    "    #len(diffPercentage) - np.count_nonzero(diffPercentage)\n",
    "    return diffPercentage"
   ]
  },
  {
   "cell_type": "code",
   "execution_count": 13,
   "metadata": {},
   "outputs": [
    {
     "data": {
      "text/plain": [
       "['23ao', '28ab']"
      ]
     },
     "execution_count": 13,
     "metadata": {},
     "output_type": "execute_result"
    }
   ],
   "source": [
    "queries = ['02aa', '02ab', '02ac', '02ad', '02ae', '02af', '02ag', '02ah', '02ai', '02aj', '02ak', '02al', '02am', '02an', '02ao', '03aa', '03ab', '03ac', '03ad', '03ae', '03af', '03ag', '03ah', '03ai', '03aj', '03ak', '03al', '03am', '03an', '03ao', '04aa', '04ab', '04ac', '04ad', '04ae', '04af', '04ag', '04ah', '04ai', '04aj', '04ak', '04al', '04am', '04an', '04ao', '05aa', '05ab', '05ac', '05ad', '05ae', '05af', '05ag', '05ah', '05ai', '05aj', '05ak', '05al', '05am', '05an', '05ao', '06aa', '06ab', '06ac', '06ad', '06ae', '06af', '06ag', '06ah', '06ai', '06aj', '06ak', '06al', '06am', '06an', '06ao', '07aa', '07ab', '07ac', '07ad', '07ae', '07af', '07ag', '07ah', '07ai', '07aj', '07ak', '07al', '07am', '07an', '07ao', '08aa', '08ab', '08ac', '08ad', '08ae', '08af', '08ag', '08ah', '08ai', '08aj', '08ak', '08al', '08am', '08an', '08ao', '09aa', '09ab', '09ac', '09ad', '09ae', '09af', '09ag', '09ah', '09ai', '09aj', '09ak', '09al', '09am', '09an', '09ao', '10aa', '10ab', '10ac', '10ad', '10ae', '10af', '10ag', '10ah', '10ai', '10aj', '10ak', '10al', '10am', '10an', '10ao', '11aa', '11ab', '11ac', '11ad', '11ae', '11af', '11ag', '11ah', '11ai', '11aj', '11ak', '11al', '11am', '11an', '11ao', '12aa', '12ab', '12ac', '12ad', '12ae', '12af', '12ag', '12ah', '12ai', '12aj', '12ak', '12al', '12am', '12an', '12ao', '13aa', '13ab', '13ac', '13ad', '13ae', '13af', '13ag', '13ah', '13ai', '13aj', '13ak', '13al', '13am', '13an', '13ao', '14aa', '14ab', '14ac', '14ad', '14ae', '14af', '14ag', '14ah', '14ai', '14aj', '14ak', '14al', '14am', '14an', '14ao', '15aa', '15ab', '15ac', '15ad', '15ae', '15af', '15ag', '15ah', '15ai', '15aj', '15ak', '15al', '15am', '15an', '15ao', '16aa', '16ab', '16ac', '16ad', '16ae', '16af', '16ag', '16ah', '16ai', '16aj', '16ak', '16al', '16am', '16an', '16ao', '17aa', '17ab', '17ac', '17ad', '17ae', '17af', '17ag', '17ah', '17ai', '17aj', '17ak', '17al', '17am', '17an', '17ao', '18aa', '18ab', '18ac', '18ad', '18ae', '18af', '18ag', '18ah', '18ai', '18aj', '18ak', '18al', '18am', '18an', '18ao', '19aa', '19ab', '19ac', '19ad', '19ae', '19af', '19ag', '19ah', '19ai', '19aj', '19ak', '19al', '19am', '19an', '19ao', '20aa', '20ab', '20ac', '20ad', '20ae', '20af', '20ag', '20ah', '20ai', '20aj', '20ak', '20al', '20am', '20an', '20ao', '21aa', '21ab', '21ac', '21ad', '21ae', '21af', '21ag', '21ah', '21ai', '21aj', '21ak', '21al', '21am', '21an', '21ao', '22aa', '22ab', '22ac', '22ad', '22ae', '22af', '22ag', '22ah', '22ai', '22aj', '22ak', '22al', '22am', '22an', '22ao', '23aa', '23ab', '23ac', '23ad', '23ae', '23af', '23ag', '23ah', '23ai', '23aj', '23ak', '23al', '23am', '23an', '23ao', '24aa', '24ab', '24ac', '24ad', '24ae', '24af', '24ag', '24ah', '24ai', '24aj', '24ak', '24al', '24am', '24an', '24ao', '25aa', '25ab', '25ac', '25ad', '25ae', '25af', '25ag', '25ah', '25ai', '25aj', '25ak', '25al', '25am', '25an', '25ao', '26aa', '26ab', '26ac', '26ad', '26ae', '26af', '26ag', '26ah', '26ai', '26aj', '26ak', '26al', '26am', '26an', '26ao', '27aa', '27ab', '27ac', '27ad', '27ae', '27af', '27ag', '27ah', '27ai', '27aj', '27ak', '27al', '27am', '27an', '27ao', '28aa', '28ab', '28ac', '28ad', '28ae', '28af', '28ag', '28ah', '28ai', '28aj', '28ak', '28al', '28am', '28an', '28ao', '29aa', '29ab', '29ac', '29ad', '29ae', '29af', '29ag', '29ah', '29ai', '29aj', '29ak', '29al', '29am', '29an', '29ao', '30aa', '30ab', '30ac', '30ad', '30ae', '30af', '30ag', '30ah', '30ai', '30aj', '30ak', '30al', '30am', '30an', '30ao']\n",
    "\n",
    "overlap = [q for q in queries if q not in allqueries[0]]\n",
    "for i in range(1,5):\n",
    "    newmissingq = [q for q in queries if q not in allqueries[i]]\n",
    "    overlap = [value for value in overlap if value in newmissingq]\n",
    "overlap # --> some overlap"
   ]
  },
  {
   "cell_type": "code",
   "execution_count": 14,
   "metadata": {},
   "outputs": [],
   "source": [
    "import matplotlib.pyplot as plt"
   ]
  },
  {
   "cell_type": "code",
   "execution_count": 15,
   "metadata": {},
   "outputs": [
    {
     "data": {
      "image/png": "[encoded data removed]",
      "text/plain": [
       "<Figure size 640x480 with 1 Axes>"
      ]
     },
     "metadata": {},
     "output_type": "display_data"
    },
    {
     "data": {
      "image/png": "[encoded data removed]",
      "text/plain": [
       "<Figure size 640x480 with 1 Axes>"
      ]
     },
     "metadata": {},
     "output_type": "display_data"
    },
    {
     "data": {
      "image/png": "[encoded data removed]",
      "text/plain": [
       "<Figure size 640x480 with 1 Axes>"
      ]
     },
     "metadata": {},
     "output_type": "display_data"
    },
    {
     "data": {
      "image/png": "[encoded data removed]",
      "text/plain": [
       "<Figure size 640x480 with 1 Axes>"
      ]
     },
     "metadata": {},
     "output_type": "display_data"
    },
    {
     "data": {
      "image/png": "[encoded data removed]",
      "text/plain": [
       "<Figure size 640x480 with 1 Axes>"
      ]
     },
     "metadata": {},
     "output_type": "display_data"
    }
   ],
   "source": [
    "for i in range(5):\n",
    "    fig = plt.figure()\n",
    "    plt.boxplot(getDiffPercentage(allcostbefore[i], allcostafter[i]), notch=None, vert=None, patch_artist=None, widths=None)"
   ]
  },
  {
   "cell_type": "code",
   "execution_count": 16,
   "metadata": {},
   "outputs": [],
   "source": [
    "def split(a, n):\n",
    "    k, m = divmod(len(a), n)\n",
    "    return (a[i*k+min(i, m):(i+1)*k+min(i+1, m)] for i in range(n))"
   ]
  },
  {
   "cell_type": "code",
   "execution_count": 17,
   "metadata": {},
   "outputs": [
    {
     "name": "stdout",
     "output_type": "stream",
     "text": [
      "Improved [254, 246, 254, 242, 258]\n",
      "Unsolved [6, 7, 7, 7, 2]\n",
      "Solved [429, 428, 428, 428, 433]\n",
      "Avgs [21.31684149951285, 20.560734869650986, 22.171252046785778, 18.775186026861064, 21.964290252935218]\n",
      "Medians [2.72045471439335, 2.5631234486470866, 2.1916315802663453, 1.71332443375255, 4.431831056033775]\n",
      "Maxs [99.99999714453958, 99.99999987319195, 99.99999999998217, 99.99999999999437, 99.99999999999936]\n",
      "Mins [0.0, 0.0, 0.0, 0.0, 0.0]\n",
      "Avgs1 [7.718404861192404, 8.002352183035276, 7.303080310170696, 6.0827356469761185, 7.397744006096896]\n",
      "Medians1 [0.0, 0.0, 0.0, 0.0, 0.0]\n",
      "Avgs2 [23.133912030837212, 21.43916140525915, 22.711148655818594, 19.971329686615853, 25.58128951956641]\n",
      "Medians2 [5.018144641882049, 4.432569362961669, 4.6466526954344385, 4.369499536658594, 6.336814308362304]\n",
      "Avgs3 [33.09820760650894, 32.322944232989585, 36.60043052033692, 30.352452653471016, 33.01499380430094]\n",
      "Medians3 [16.784701349232588, 10.381085278357826, 17.594680063094245, 8.050797448072805, 15.186046511888968]\n",
      "Dur Avgs [22.691435860139862, 22.794716544392525, 22.188470859813087, 22.427590341121494, 22.683218540415705]\n",
      "Dur Medians [17.101837, 17.5119335, 16.8109975, 16.6377745, 18.212374]\n",
      "Dur Maxs [94.021686, 86.43020599999998, 97.66979, 97.779452, 102.70706700000001]\n",
      "Dur Mins [0.737571, 0.819374, 0.786644, 0.7266310000000002, 0.804043]\n",
      "Dur Avgs1 [5.896466167832167, 5.611131356643358, 5.3951327132867135, 5.526584545454545, 5.568655965517242]\n",
      "Dur Medians1 [5.704416, 5.538036, 5.4964200000000005, 5.198239, 5.139448]\n",
      "Dur Avgs2 [18.407595923076922, 18.482903573426572, 18.70442898601399, 18.016256559440563, 19.00349825]\n",
      "Dur Medians2 [17.100977, 17.145079, 16.855538000000003, 16.63583, 18.299115]\n",
      "Dur Avgs3 [43.770245489510486, 44.44149074647888, 42.60864933098592, 43.89001681690141, 43.59635253472223]\n",
      "Dur Medians3 [39.554466000000005, 41.38374949999999, 38.066238, 40.475593, 40.087373]\n"
     ]
    }
   ],
   "source": [
    "improvcounters = []\n",
    "notsolved = []\n",
    "solved = []\n",
    "avgs = []\n",
    "medians = []\n",
    "avgs1 = []\n",
    "medians1 = []\n",
    "avgs2 = []\n",
    "medians2 = []\n",
    "avgs3 = []\n",
    "medians3 = []\n",
    "maxs = []\n",
    "mins = []\n",
    "duravgs = []\n",
    "durmedians = []\n",
    "durmaxs = []\n",
    "durmins = []\n",
    "duravgs1 = []\n",
    "durmedians1 = []\n",
    "duravgs2 = []\n",
    "durmedians2 = []\n",
    "duravgs3 = []\n",
    "durmedians3 = []\n",
    "for i in range(5):\n",
    "    counter = 0\n",
    "    for j in range(len(allcostbefore[i])):\n",
    "        if allcostbefore[i][j] > allcostafter[i][j]:\n",
    "            counter = counter + 1\n",
    "    improvcounters.append(counter)\n",
    "    diffs = getDiffPercentage(allcostbefore[i], allcostafter[i])\n",
    "    notsolved.append(435 - len(allqueries[i]))\n",
    "    solved.append(len(allqueries[i]))\n",
    "    avgs.append(np.average(diffs))\n",
    "    medians.append(np.median(diffs))\n",
    "    maxs.append(np.max(diffs))\n",
    "    mins.append(np.min(diffs))\n",
    "    diffparts = list(split(diffs, 3))\n",
    "    avgs1.append(np.average(diffparts[0]))\n",
    "    medians1.append(np.median(diffparts[0]))\n",
    "    avgs2.append(np.average(diffparts[1]))\n",
    "    medians2.append(np.median(diffparts[1]))\n",
    "    avgs3.append(np.average(diffparts[2]))\n",
    "    medians3.append(np.median(diffparts[2]))\n",
    "    dur = [sum(x) for x in zip(allplanning[i], allduration[i])]\n",
    "    duravgs.append(np.average(dur))\n",
    "    durmedians.append(np.median(dur))\n",
    "    durmaxs.append(np.max(dur))\n",
    "    durmins.append(np.min(dur))\n",
    "    durp = list(split(dur, 3))\n",
    "    duravgs1.append(np.average(durp[0]))\n",
    "    durmedians1.append(np.median(durp[0]))\n",
    "    duravgs2.append(np.average(durp[1]))\n",
    "    durmedians2.append(np.median(durp[1]))\n",
    "    duravgs3.append(np.average(durp[2]))\n",
    "    durmedians3.append(np.median(durp[2]))\n",
    "    \n",
    "print(\"Improved\", improvcounters)\n",
    "print(\"Unsolved\", notsolved)\n",
    "print(\"Solved\", solved)\n",
    "print(\"Avgs\",avgs)\n",
    "print(\"Medians\",medians)\n",
    "print(\"Maxs\",maxs)\n",
    "print(\"Mins\",mins)\n",
    "print(\"Avgs1\",avgs1) # first third of the queries\n",
    "print(\"Medians1\",medians1)\n",
    "print(\"Avgs2\",avgs2) # second third of the queries\n",
    "print(\"Medians2\",medians2)\n",
    "print(\"Avgs3\",avgs3) # third third of the queries\n",
    "print(\"Medians3\",medians3)\n",
    "print(\"Dur Avgs\",duravgs)\n",
    "print(\"Dur Medians\",durmedians)\n",
    "print(\"Dur Maxs\",durmaxs)\n",
    "print(\"Dur Mins\",durmins)\n",
    "print(\"Dur Avgs1\",duravgs1) # first third of the queries\n",
    "print(\"Dur Medians1\",durmedians1)\n",
    "print(\"Dur Avgs2\",duravgs2) # second third of the queries\n",
    "print(\"Dur Medians2\",durmedians2)\n",
    "print(\"Dur Avgs3\",duravgs3) # third third of the queries\n",
    "print(\"Dur Medians3\",durmedians3)"
   ]
  },
  {
   "cell_type": "code",
   "execution_count": null,
   "metadata": {},
   "outputs": [],
   "source": []
  }
 ],
 "metadata": {
  "colab": {
   "provenance": []
  },
  "kernelspec": {
   "display_name": "Python 3 (ipykernel)",
   "language": "python",
   "name": "python3"
  },
  "language_info": {
   "codemirror_mode": {
    "name": "ipython",
    "version": 3
   },
   "file_extension": ".py",
   "mimetype": "text/x-python",
   "name": "python",
   "nbconvert_exporter": "python",
   "pygments_lexer": "ipython3",
   "version": "3.11.4"
  }
 },
 "nbformat": 4,
 "nbformat_minor": 4
}
